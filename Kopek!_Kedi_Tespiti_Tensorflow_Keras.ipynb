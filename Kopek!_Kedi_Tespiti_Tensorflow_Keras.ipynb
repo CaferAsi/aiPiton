{
 "cells": [
  {
   "cell_type": "code",
   "execution_count": 4,
   "id": "a1e298da",
   "metadata": {},
   "outputs": [],
   "source": [
    "import os\n",
    "import tensorflow as tf\n",
    "from tensorflow.keras.preprocessing.image import ImageDataGenerator\n",
    "from tensorflow.keras.models import Sequential\n",
    "from tensorflow.keras.layers import Conv2D, MaxPooling2D, Flatten, Dense"
   ]
  },
  {
   "cell_type": "code",
   "execution_count": 5,
   "id": "2cc054e7",
   "metadata": {},
   "outputs": [],
   "source": [
    "kaynak_klasoru = 'animal' # https://www.kaggle.com/datasets/ashishsaxena2209/animal-image-datasetdog-cat-and-panda\n",
    "resim_boyutu = (64, 64)\n",
    "batch_size = 64"
   ]
  },
  {
   "cell_type": "markdown",
   "id": "be97a73e",
   "metadata": {},
   "source": [
    "# Veri yükleyicisini oluşturmak için ImageDataGenerator sınıfını kullanabilirsiniz:\n",
    "\n"
   ]
  },
  {
   "cell_type": "code",
   "execution_count": 6,
   "id": "e99e276f",
   "metadata": {},
   "outputs": [
    {
     "name": "stdout",
     "output_type": "stream",
     "text": [
      "Found 1958 images belonging to 2 classes.\n"
     ]
    }
   ],
   "source": [
    "veri_yukleyici = ImageDataGenerator(rescale=1./255)\n",
    "veri_seti = veri_yukleyici.flow_from_directory(\n",
    "    kaynak_klasoru,\n",
    "    target_size=resim_boyutu,\n",
    "    batch_size=batch_size,\n",
    "    class_mode='categorical')"
   ]
  },
  {
   "cell_type": "markdown",
   "id": "e4c89148",
   "metadata": {},
   "source": [
    "# Modeli oluşturmak için Sequential sınıfını kullanabilirsiniz:\n"
   ]
  },
  {
   "cell_type": "code",
   "execution_count": 7,
   "id": "b95465fc",
   "metadata": {},
   "outputs": [],
   "source": [
    "model = Sequential()\n",
    "model.add(Conv2D(32, (3, 3), activation='relu', input_shape=(64, 64, 3)))\n",
    "model.add(MaxPooling2D((2, 2)))\n",
    "model.add(Conv2D(64, (3, 3), activation='relu'))\n",
    "model.add(MaxPooling2D((2, 2)))\n",
    "model.add(Conv2D(128, (3, 3), activation='relu'))\n",
    "model.add(MaxPooling2D((2, 2)))\n",
    "model.add(Flatten())\n",
    "model.add(Dense(128, activation='relu'))\n",
    "model.add(Dense(2, activation='softmax'))\n",
    "\n",
    "model.compile(optimizer='adam', loss='categorical_crossentropy', metrics=['accuracy'])"
   ]
  },
  {
   "cell_type": "markdown",
   "id": "1f470692",
   "metadata": {},
   "source": [
    "# Eğitim"
   ]
  },
  {
   "cell_type": "code",
   "execution_count": 8,
   "id": "917d9cfd",
   "metadata": {},
   "outputs": [
    {
     "name": "stdout",
     "output_type": "stream",
     "text": [
      "Epoch 1/10\n",
      "31/31 [==============================] - 8s 225ms/step - loss: 0.7023 - accuracy: 0.5046\n",
      "Epoch 2/10\n",
      "31/31 [==============================] - 7s 237ms/step - loss: 0.6875 - accuracy: 0.5352\n",
      "Epoch 3/10\n",
      "31/31 [==============================] - 7s 227ms/step - loss: 0.6553 - accuracy: 0.6103\n",
      "Epoch 4/10\n",
      "31/31 [==============================] - 8s 263ms/step - loss: 0.6157 - accuracy: 0.6599\n",
      "Epoch 5/10\n",
      "31/31 [==============================] - 9s 280ms/step - loss: 0.5937 - accuracy: 0.6931\n",
      "Epoch 6/10\n",
      "31/31 [==============================] - 13s 405ms/step - loss: 0.5411 - accuracy: 0.7222\n",
      "Epoch 7/10\n",
      "31/31 [==============================] - 12s 394ms/step - loss: 0.5027 - accuracy: 0.7513\n",
      "Epoch 8/10\n",
      "31/31 [==============================] - 8s 243ms/step - loss: 0.4562 - accuracy: 0.7870\n",
      "Epoch 9/10\n",
      "31/31 [==============================] - 7s 226ms/step - loss: 0.4293 - accuracy: 0.8003\n",
      "Epoch 10/10\n",
      "31/31 [==============================] - 7s 221ms/step - loss: 0.3639 - accuracy: 0.8401\n"
     ]
    },
    {
     "data": {
      "text/plain": [
       "<keras.callbacks.History at 0x239b12d6f70>"
      ]
     },
     "execution_count": 8,
     "metadata": {},
     "output_type": "execute_result"
    }
   ],
   "source": [
    "epochs = 10\n",
    "model.fit(veri_seti, epochs=epochs)"
   ]
  },
  {
   "cell_type": "markdown",
   "id": "2138d0f2",
   "metadata": {},
   "source": [
    "## modeli model.h5 isiyle kaydedelim"
   ]
  },
  {
   "cell_type": "code",
   "execution_count": 9,
   "id": "0f09ef2d",
   "metadata": {},
   "outputs": [],
   "source": [
    "model.save(\"model.h5\")"
   ]
  },
  {
   "cell_type": "markdown",
   "id": "5ba3afdb",
   "metadata": {},
   "source": [
    "# TestKodu\n",
    "* 1-kutuphane Ekleme\n",
    "* 2- modelin yüklenmesi\n",
    "* 3-test verisi okunması\n",
    "* 4- resimleri  tek tek istenilen formata dönüştürüp model ile tahminin yapılması"
   ]
  },
  {
   "cell_type": "code",
   "execution_count": null,
   "id": "eb7c5c1b",
   "metadata": {},
   "outputs": [],
   "source": [
    "import os\n",
    "import numpy as np\n",
    "from PIL import Image\n",
    "from tensorflow.keras.models import load_model\n",
    "\n",
    "# Eğitilmiş modelinizi yükleyin\n",
    "model = load_model( 'model.h5')\n"
   ]
  },
  {
   "cell_type": "code",
   "execution_count": 13,
   "id": "2975d965",
   "metadata": {},
   "outputs": [
    {
     "name": "stdout",
     "output_type": "stream",
     "text": [
      "1/1 [==============================] - 0s 18ms/step\n",
      "1/1 [==============================] - 0s 17ms/step\n",
      "1/1 [==============================] - 0s 16ms/step\n",
      "1/1 [==============================] - 0s 18ms/step\n",
      "1/1 [==============================] - 0s 16ms/step\n",
      "1/1 [==============================] - 0s 17ms/step\n",
      "1/1 [==============================] - 0s 17ms/step\n",
      "1/1 [==============================] - 0s 16ms/step\n",
      "1/1 [==============================] - 0s 17ms/step\n",
      "1/1 [==============================] - 0s 16ms/step\n",
      "1/1 [==============================] - 0s 16ms/step\n",
      "1/1 [==============================] - 0s 16ms/step\n",
      "1/1 [==============================] - 0s 16ms/step\n",
      "1/1 [==============================] - 0s 17ms/step\n",
      "1/1 [==============================] - 0s 18ms/step\n",
      "1/1 [==============================] - 0s 16ms/step\n",
      "1/1 [==============================] - 0s 16ms/step\n",
      "1/1 [==============================] - 0s 19ms/step\n",
      "1/1 [==============================] - 0s 16ms/step\n",
      "1/1 [==============================] - 0s 17ms/step\n",
      "1/1 [==============================] - 0s 16ms/step\n",
      "1/1 [==============================] - 0s 23ms/step\n",
      "1/1 [==============================] - 0s 18ms/step\n",
      "1/1 [==============================] - 0s 19ms/step\n",
      "1/1 [==============================] - 0s 16ms/step\n",
      "1/1 [==============================] - 0s 17ms/step\n",
      "1/1 [==============================] - 0s 17ms/step\n",
      "1/1 [==============================] - 0s 16ms/step\n",
      "1/1 [==============================] - 0s 16ms/step\n",
      "1/1 [==============================] - 0s 16ms/step\n"
     ]
    }
   ],
   "source": [
    "\n",
    "\n",
    "test_folder = 'test_images/dogs'  # Test verilerinizin bulunduğu klasör yolu\n",
    "\n",
    "ppp=[]\n",
    "\n",
    "# Test resimlerinizi yükleyin ve tahmin yapın\n",
    "for filename in os.listdir(test_folder):\n",
    "    img_path = os.path.join(test_folder, filename)\n",
    "    img = Image.open(img_path)\n",
    "    img = img.resize((64, 64))  # Resmi 64x64 boyutuna yeniden boyutlandırın\n",
    "    img = np.array(img) / 255.0  # Resimleri [0, 1] aralığında ölçeklendirin\n",
    "    img = np.expand_dims(img, axis=0)  # Girdi tensörü boyutunu (1, 64, 64, 3) yapın\n",
    "\n",
    "    # Tahmin yapın\n",
    "    pred = model.predict(img)\n",
    "    prediction = np.argmax(pred, axis=1)\n",
    "\n",
    "    # Tahmin sonucunu yazdırın\n",
    "    #print(f\"{filename}: {prediction}\") \n",
    "    \n",
    "    # yazdırmak yerine sonucu listeye ekleyip değerlendirlim\n",
    "    ppp.append(prediction)\n",
    "    "
   ]
  },
  {
   "cell_type": "code",
   "execution_count": 14,
   "id": "60a8cc0f",
   "metadata": {},
   "outputs": [
    {
     "data": {
      "text/plain": [
       "array([0.6])"
      ]
     },
     "execution_count": 14,
     "metadata": {},
     "output_type": "execute_result"
    }
   ],
   "source": [
    "sum(ppp)/len(ppp) # kedi 0 olarak etiketlendiğinden dolayı doğruluk oranı %85.7"
   ]
  }
 ],
 "metadata": {
  "kernelspec": {
   "display_name": "Python 3 (ipykernel)",
   "language": "python",
   "name": "python3"
  },
  "language_info": {
   "codemirror_mode": {
    "name": "ipython",
    "version": 3
   },
   "file_extension": ".py",
   "mimetype": "text/x-python",
   "name": "python",
   "nbconvert_exporter": "python",
   "pygments_lexer": "ipython3",
   "version": "3.9.13"
  }
 },
 "nbformat": 4,
 "nbformat_minor": 5
}
